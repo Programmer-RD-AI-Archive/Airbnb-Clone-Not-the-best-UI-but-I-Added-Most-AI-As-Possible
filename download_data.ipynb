{
 "cells": [
  {
   "cell_type": "code",
   "execution_count": 1,
   "metadata": {},
   "outputs": [
    {
     "name": "stderr",
     "output_type": "stream",
     "text": [
      "600it [00:00, 1707315.06it/s]\n",
      "937327it [00:00, 2034782.81it/s]\n"
     ]
    },
    {
     "name": "stdout",
     "output_type": "stream",
     "text": [
      "[0.66875, 1.0, 0.0, 0.5520833]\n"
     ]
    }
   ],
   "source": [
    "import pandas as pd\n",
    "from tqdm import tqdm\n",
    "\n",
    "classes = [\n",
    "    \"Toilet\",\n",
    "    \"Swimming pool\",\n",
    "    \"Bed\",\n",
    "    \"Billiard table\",\n",
    "    \"Sink\",\n",
    "    \"Fountain\",\n",
    "    \"Oven\",\n",
    "    \"Ceiling fan\",\n",
    "    \"Television\",\n",
    "    \"Microwave oven\",\n",
    "    \"Gas stove\",\n",
    "    \"Refrigerator\",\n",
    "    \"Kitchen & dining room table\",\n",
    "    \"Washing machine\",\n",
    "    \"Bathtub\",\n",
    "    \"Stairs\",\n",
    "    \"Fireplace\",\n",
    "    \"Pillow\",\n",
    "    \"Mirror\",\n",
    "    \"Shower\",\n",
    "    \"Couch\",\n",
    "    \"Countertop\",\n",
    "    \"Coffeemaker\",\n",
    "    \"Dishwasher\",\n",
    "    \"Sofa bed\",\n",
    "    \"Tree house\",\n",
    "    \"Towel\",\n",
    "    \"Porch\",\n",
    "    \"Wine rack\",\n",
    "    \"Jacuzzi\",\n",
    "]\n",
    "bounding_boxes_train = pd.read_csv(\"./bounding-boxes-train.csv\")\n",
    "# bounding_boxes_test = pd.read_csv(\"./bounding-boxes-test.csv\")\n",
    "# bounding_boxes_valid = pd.read_csv(\"./bounding-boxes-valid.csv\")\n",
    "download_data = pd.read_csv(\"./ids.csv\")\n",
    "class_names = pd.read_csv(\"./classnames.csv\")\n",
    "class_names.rename(columns={\"/m/011k07\": \"Id\", \"Tortoise\": \"name\"}, inplace=True)\n",
    "ids = class_names[\"Id\"]\n",
    "names = class_names[\"name\"]\n",
    "name_and_label_names = {}\n",
    "label_names = []\n",
    "idx = -1\n",
    "\n",
    "for _id, name in tqdm(zip(ids, names)):\n",
    "    if name in classes:\n",
    "        idx += 1\n",
    "        name_and_label_names[name] = [_id, idx]\n",
    "        label_names.append(_id)\n",
    "\n",
    "img_ids = bounding_boxes_train[\"ImageID\"]\n",
    "label_names_labels_pd_df = bounding_boxes_train[\"LabelName\"]\n",
    "img_id_and_label_names = {}\n",
    "\n",
    "for img_id, label_name_labels_pd_df in tqdm(zip(img_ids, label_names_labels_pd_df)):\n",
    "    if label_name_labels_pd_df in label_names:\n",
    "        img_id_and_label_names[label_name_labels_pd_df] = img_id\n",
    "image_ids = bounding_boxes_train.to_dict()[\"ImageID\"].values()\n",
    "x_mins = bounding_boxes_train.to_dict()[\"XMin\"].values()\n",
    "y_mins = bounding_boxes_train.to_dict()[\"YMin\"].values()\n",
    "x_maxs = bounding_boxes_train.to_dict()[\"XMax\"].values()\n",
    "y_maxs = bounding_boxes_train.to_dict()[\"YMax\"].values()\n",
    "urls = []\n",
    "for url in download_data.to_dict():\n",
    "    pass\n",
    "image_ids_and_urls_dict = {}\n",
    "for image_id, x_min, x_max, y_min, y_max in zip(\n",
    "    image_ids, x_mins, x_maxs, y_mins, y_maxs\n",
    "):\n",
    "    image_ids_and_urls_dict[image_id] = [x_min, x_max, y_min, y_max]\n",
    "\n",
    "\n",
    "# for image_id, url in tqdm(\n",
    "#     zip(\n",
    "#         list(download_data.to_dict()[\"ImageID\"].values()),\n",
    "#         list(download_data.to_dict()[\"OriginalURL\"].values()),\n",
    "#     )\n",
    "# ):\n",
    "#     if image_id in list(image_ids_and_urls_dict.keys()):\n",
    "#         image_ids_and_urls_dict[image_id] = image_ids_and_urls_dict[image_id].append(\n",
    "#             url\n",
    "#         )\n",
    "#         print(image_id)\n",
    "print(image_ids_and_urls_dict[list(image_ids_and_urls_dict.keys())[0]])"
   ]
  },
  {
   "cell_type": "code",
   "execution_count": 2,
   "metadata": {},
   "outputs": [
    {
     "data": {
      "text/plain": [
       "382490"
      ]
     },
     "execution_count": 2,
     "metadata": {},
     "output_type": "execute_result"
    }
   ],
   "source": [
    "len(download_data.to_dict()[\"ImageID\"].values())"
   ]
  },
  {
   "cell_type": "code",
   "execution_count": 3,
   "metadata": {},
   "outputs": [
    {
     "name": "stdout",
     "output_type": "stream",
     "text": [
      "[0.66875, 1.0, 0.0, 0.5520833]\n"
     ]
    }
   ],
   "source": [
    "print(image_ids_and_urls_dict[list(image_ids_and_urls_dict.keys())[0]])"
   ]
  },
  {
   "cell_type": "code",
   "execution_count": 4,
   "metadata": {},
   "outputs": [],
   "source": [
    "# for image_id, url in tqdm(\n",
    "#     zip(\n",
    "#         list(download_data.to_dict()[\"ImageID\"].values()),\n",
    "#         list(download_data.to_dict()[\"OriginalURL\"].values()),\n",
    "#     )\n",
    "# ):\n",
    "#     if image_id in list(image_ids_and_urls_dict.keys()):\n",
    "#         image_ids_and_urls_dict[image_id] = image_ids_and_urls_dict[image_id].append(\n",
    "#             url\n",
    "#         )\n",
    "#         print(image_id)"
   ]
  },
  {
   "cell_type": "code",
   "execution_count": 5,
   "metadata": {},
   "outputs": [
    {
     "data": {
      "text/plain": [
       "['000026e7ee790996',\n",
       " '000026e7ee790996',\n",
       " '000026e7ee790996',\n",
       " '000062a39995e348',\n",
       " '000062a39995e348']"
      ]
     },
     "execution_count": 5,
     "metadata": {},
     "output_type": "execute_result"
    }
   ],
   "source": [
    "list(image_ids)[0:5]"
   ]
  },
  {
   "cell_type": "code",
   "execution_count": 6,
   "metadata": {},
   "outputs": [
    {
     "data": {
      "text/plain": [
       "['afbe6bee0226cd91',\n",
       " 'd7d678178da7958e',\n",
       " 'e808d5949d7157ef',\n",
       " '62c2eaaefdb38f4d',\n",
       " '84f7ecec44f1b38e']"
      ]
     },
     "execution_count": 6,
     "metadata": {},
     "output_type": "execute_result"
    }
   ],
   "source": [
    "list(download_data.to_dict()[\"ImageID\"].values())[0:5]"
   ]
  },
  {
   "cell_type": "code",
   "execution_count": 7,
   "metadata": {},
   "outputs": [],
   "source": [
    "if list() in list(image_ids_and_urls_dict.keys()):\n",
    "    print(image_id)"
   ]
  },
  {
   "cell_type": "code",
   "execution_count": 8,
   "metadata": {},
   "outputs": [
    {
     "data": {
      "text/plain": [
       "Index(['ImageID', 'Subset', 'OriginalURL', 'OriginalLandingURL', 'License',\n",
       "       'AuthorProfileURL', 'Author', 'Title', 'OriginalSize', 'OriginalMD5',\n",
       "       'Thumbnail300KURL', 'Rotation'],\n",
       "      dtype='object')"
      ]
     },
     "execution_count": 8,
     "metadata": {},
     "output_type": "execute_result"
    }
   ],
   "source": [
    "download_data.columns"
   ]
  },
  {
   "cell_type": "code",
   "execution_count": 9,
   "metadata": {},
   "outputs": [
    {
     "data": {
      "text/html": [
       "<div>\n",
       "<style scoped>\n",
       "    .dataframe tbody tr th:only-of-type {\n",
       "        vertical-align: middle;\n",
       "    }\n",
       "\n",
       "    .dataframe tbody tr th {\n",
       "        vertical-align: top;\n",
       "    }\n",
       "\n",
       "    .dataframe thead th {\n",
       "        text-align: right;\n",
       "    }\n",
       "</style>\n",
       "<table border=\"1\" class=\"dataframe\">\n",
       "  <thead>\n",
       "    <tr style=\"text-align: right;\">\n",
       "      <th></th>\n",
       "      <th>ImageID</th>\n",
       "      <th>Subset</th>\n",
       "      <th>OriginalURL</th>\n",
       "      <th>OriginalLandingURL</th>\n",
       "      <th>License</th>\n",
       "      <th>AuthorProfileURL</th>\n",
       "      <th>Author</th>\n",
       "      <th>Title</th>\n",
       "      <th>OriginalSize</th>\n",
       "      <th>OriginalMD5</th>\n",
       "      <th>Thumbnail300KURL</th>\n",
       "      <th>Rotation</th>\n",
       "    </tr>\n",
       "  </thead>\n",
       "  <tbody>\n",
       "    <tr>\n",
       "      <th>0</th>\n",
       "      <td>afbe6bee0226cd91</td>\n",
       "      <td>NaN</td>\n",
       "      <td>https://lh3.googleusercontent.com/q0wbpyLn6ycB...</td>\n",
       "      <td>NaN</td>\n",
       "      <td>https://creativecommons.org/licenses/by/4.0/</td>\n",
       "      <td>NaN</td>\n",
       "      <td>lakshmi maddula</td>\n",
       "      <td>NaN</td>\n",
       "      <td>NaN</td>\n",
       "      <td>NaN</td>\n",
       "      <td>https://lh3.googleusercontent.com/q0wbpyLn6ycB...</td>\n",
       "      <td>0</td>\n",
       "    </tr>\n",
       "    <tr>\n",
       "      <th>1</th>\n",
       "      <td>d7d678178da7958e</td>\n",
       "      <td>NaN</td>\n",
       "      <td>https://lh3.googleusercontent.com/jV7yBb0fDbId...</td>\n",
       "      <td>NaN</td>\n",
       "      <td>https://creativecommons.org/licenses/by/4.0/</td>\n",
       "      <td>NaN</td>\n",
       "      <td>Vinsmoke G.</td>\n",
       "      <td>NaN</td>\n",
       "      <td>NaN</td>\n",
       "      <td>NaN</td>\n",
       "      <td>https://lh3.googleusercontent.com/jV7yBb0fDbId...</td>\n",
       "      <td>0</td>\n",
       "    </tr>\n",
       "    <tr>\n",
       "      <th>2</th>\n",
       "      <td>e808d5949d7157ef</td>\n",
       "      <td>NaN</td>\n",
       "      <td>https://lh3.googleusercontent.com/lrZ01OhyKK74...</td>\n",
       "      <td>NaN</td>\n",
       "      <td>https://creativecommons.org/licenses/by/4.0/</td>\n",
       "      <td>NaN</td>\n",
       "      <td>Praful Kumar</td>\n",
       "      <td>NaN</td>\n",
       "      <td>NaN</td>\n",
       "      <td>NaN</td>\n",
       "      <td>https://lh3.googleusercontent.com/lrZ01OhyKK74...</td>\n",
       "      <td>0</td>\n",
       "    </tr>\n",
       "    <tr>\n",
       "      <th>3</th>\n",
       "      <td>62c2eaaefdb38f4d</td>\n",
       "      <td>NaN</td>\n",
       "      <td>https://lh3.googleusercontent.com/3gPrKaNNo9ib...</td>\n",
       "      <td>NaN</td>\n",
       "      <td>https://creativecommons.org/licenses/by/4.0/</td>\n",
       "      <td>NaN</td>\n",
       "      <td>Mansi Ahirwar</td>\n",
       "      <td>NaN</td>\n",
       "      <td>NaN</td>\n",
       "      <td>NaN</td>\n",
       "      <td>https://lh3.googleusercontent.com/3gPrKaNNo9ib...</td>\n",
       "      <td>0</td>\n",
       "    </tr>\n",
       "    <tr>\n",
       "      <th>4</th>\n",
       "      <td>84f7ecec44f1b38e</td>\n",
       "      <td>NaN</td>\n",
       "      <td>https://lh3.googleusercontent.com/hpd5UC0VHd0S...</td>\n",
       "      <td>NaN</td>\n",
       "      <td>https://creativecommons.org/licenses/by/4.0/</td>\n",
       "      <td>NaN</td>\n",
       "      <td>naresh surampelli</td>\n",
       "      <td>NaN</td>\n",
       "      <td>NaN</td>\n",
       "      <td>NaN</td>\n",
       "      <td>https://lh3.googleusercontent.com/hpd5UC0VHd0S...</td>\n",
       "      <td>0</td>\n",
       "    </tr>\n",
       "  </tbody>\n",
       "</table>\n",
       "</div>"
      ],
      "text/plain": [
       "            ImageID  Subset  \\\n",
       "0  afbe6bee0226cd91     NaN   \n",
       "1  d7d678178da7958e     NaN   \n",
       "2  e808d5949d7157ef     NaN   \n",
       "3  62c2eaaefdb38f4d     NaN   \n",
       "4  84f7ecec44f1b38e     NaN   \n",
       "\n",
       "                                         OriginalURL  OriginalLandingURL  \\\n",
       "0  https://lh3.googleusercontent.com/q0wbpyLn6ycB...                 NaN   \n",
       "1  https://lh3.googleusercontent.com/jV7yBb0fDbId...                 NaN   \n",
       "2  https://lh3.googleusercontent.com/lrZ01OhyKK74...                 NaN   \n",
       "3  https://lh3.googleusercontent.com/3gPrKaNNo9ib...                 NaN   \n",
       "4  https://lh3.googleusercontent.com/hpd5UC0VHd0S...                 NaN   \n",
       "\n",
       "                                        License  AuthorProfileURL  \\\n",
       "0  https://creativecommons.org/licenses/by/4.0/               NaN   \n",
       "1  https://creativecommons.org/licenses/by/4.0/               NaN   \n",
       "2  https://creativecommons.org/licenses/by/4.0/               NaN   \n",
       "3  https://creativecommons.org/licenses/by/4.0/               NaN   \n",
       "4  https://creativecommons.org/licenses/by/4.0/               NaN   \n",
       "\n",
       "              Author  Title  OriginalSize  OriginalMD5  \\\n",
       "0    lakshmi maddula    NaN           NaN          NaN   \n",
       "1        Vinsmoke G.    NaN           NaN          NaN   \n",
       "2       Praful Kumar    NaN           NaN          NaN   \n",
       "3      Mansi Ahirwar    NaN           NaN          NaN   \n",
       "4  naresh surampelli    NaN           NaN          NaN   \n",
       "\n",
       "                                    Thumbnail300KURL  Rotation  \n",
       "0  https://lh3.googleusercontent.com/q0wbpyLn6ycB...         0  \n",
       "1  https://lh3.googleusercontent.com/jV7yBb0fDbId...         0  \n",
       "2  https://lh3.googleusercontent.com/lrZ01OhyKK74...         0  \n",
       "3  https://lh3.googleusercontent.com/3gPrKaNNo9ib...         0  \n",
       "4  https://lh3.googleusercontent.com/hpd5UC0VHd0S...         0  "
      ]
     },
     "execution_count": 9,
     "metadata": {},
     "output_type": "execute_result"
    }
   ],
   "source": [
    "download_data.head()"
   ]
  },
  {
   "cell_type": "code",
   "execution_count": null,
   "metadata": {},
   "outputs": [
    {
     "name": "stderr",
     "output_type": "stream",
     "text": [
      "67595it [25:53, 43.71it/s]"
     ]
    }
   ],
   "source": [
    "for a,b in tqdm(zip(download_data['ImageID'].tolist(),bounding_boxes_train['ImageID'].tolist())):\n",
    "    if a in bounding_boxes_train['ImageID'].tolist():\n",
    "        print(a)\n",
    "    if b in download_data['ImageID'].tolist():\n",
    "        print(b)\n",
    "    "
   ]
  },
  {
   "cell_type": "code",
   "execution_count": null,
   "metadata": {},
   "outputs": [],
   "source": [
    "pd.read_csv('labels.csv')"
   ]
  },
  {
   "cell_type": "code",
   "execution_count": null,
   "metadata": {},
   "outputs": [],
   "source": [
    "a"
   ]
  },
  {
   "cell_type": "code",
   "execution_count": null,
   "metadata": {},
   "outputs": [],
   "source": [
    "b"
   ]
  },
  {
   "cell_type": "code",
   "execution_count": null,
   "metadata": {},
   "outputs": [],
   "source": [
    "if a in bounding_boxes_train['ImageID'].tolist():\n",
    "        print(a)"
   ]
  },
  {
   "cell_type": "code",
   "execution_count": null,
   "metadata": {},
   "outputs": [],
   "source": [
    "if b in download_data['ImageID'].tolist():\n",
    "        print(b)"
   ]
  },
  {
   "cell_type": "code",
   "execution_count": null,
   "metadata": {},
   "outputs": [],
   "source": []
  }
 ],
 "metadata": {
  "interpreter": {
   "hash": "210f9608a45c0278a93c9e0b10db32a427986ab48cfc0d20c139811eb78c4bbc"
  },
  "kernelspec": {
   "display_name": "Python 3",
   "language": "python",
   "name": "python3"
  },
  "language_info": {
   "codemirror_mode": {
    "name": "ipython",
    "version": 3
   },
   "file_extension": ".py",
   "mimetype": "text/x-python",
   "name": "python",
   "nbconvert_exporter": "python",
   "pygments_lexer": "ipython3",
   "version": "3.8.10"
  }
 },
 "nbformat": 4,
 "nbformat_minor": 4
}
